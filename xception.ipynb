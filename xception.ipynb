{
  "cells": [
    {
      "metadata": {
        "_uuid": "8f2839f25d086af736a60e9eeb907d3b93b6e0e5",
        "_cell_guid": "b1076dfc-b9ad-4769-8c92-a6c4dae69d19",
        "trusted": true
      },
      "cell_type": "code",
      "source": "import numpy as np # linear algebra\nimport pandas as pd # data processing, CSV file I/O (e.g. pd.read_csv)\nimport pydicom\nimport random \nfrom tqdm import tqdm\n\nimport os\nimport keras\nimport pydicom\n\nfrom sklearn.preprocessing import LabelEncoder\nimport pickle\n\ndef read_pickle(filename):    \n    with open(filename, 'rb') as fp:\n        return pickle.load(fp)\n    \ndef save_pickle(data,filename):       \n    with open(filename, 'wb') as fp:\n        pickle.dump(data, fp)  \n    \ndata_path = '../input/rsna-pneumonia-detection-challenge/'\n\nimages_path = data_path + 'stage_2_train_images/'\nlabels_path = data_path + 'stage_2_train_labels.csv'\n\ndetailed_class_info_path = data_path + 'stage_2_detailed_class_info.csv'\n\nclass_encoder = LabelEncoder()\n   \ndef merge_dataframes():\n    df = pd.read_csv(labels_path)\n    details_df = pd.read_csv(detailed_class_info_path)\n    df = pd.concat([df,details_df.drop('patientId',1)], 1) \n    print(df.describe())\n    print(df.shape[0], 'cases')\n\n    return df\n\n\n  \ndef load_ids_and_labels_from_file():\n    ids = read_pickle('ids')\n    labels = read_pickle('labels')\n    return ids,labels\n  \ndef get_ids_and_labels(num_class):\n    df = merge_dataframes()\n    df['class_id'] = class_encoder.fit_transform(df['class'])\n\n    df.sort_values(by=['patientId', 'class_id'])\n    \n    ids = df.patientId.tolist()\n    \n    if(num_class==2):\n        labels =  df.Target.tolist() \n    else:\n        labels =  df.class_id.tolist() \n    \n    save_pickle(ids, 'ids')\n    save_pickle(labels, 'labels')\n\n    return ids,labels\n\n      \n\nnum_class = 2\nids,labels = get_ids_and_labels(num_class)",
      "execution_count": 2,
      "outputs": [
        {
          "output_type": "stream",
          "text": "                 x            y      ...            height        Target\ncount  9555.000000  9555.000000      ...       9555.000000  30227.000000\nmean    394.047724   366.839560      ...        329.269702      0.316108\nstd     204.574172   148.940488      ...        157.750755      0.464963\nmin       2.000000     2.000000      ...         45.000000      0.000000\n25%     207.000000   249.000000      ...        203.000000      0.000000\n50%     324.000000   365.000000      ...        298.000000      0.000000\n75%     594.000000   478.500000      ...        438.000000      1.000000\nmax     835.000000   881.000000      ...        942.000000      1.000000\n\n[8 rows x 5 columns]\n30227 cases\n",
          "name": "stdout"
        }
      ]
    },
    {
      "metadata": {
        "trusted": true,
        "_uuid": "0bc2fab300e8ae2c67a6f9e68b558b5d3aff8e7f"
      },
      "cell_type": "code",
      "source": "feature_tensors = np.load('../input/xception-features/xception_features.npz')['arr_0']\n",
      "execution_count": 3,
      "outputs": []
    },
    {
      "metadata": {
        "trusted": true,
        "_uuid": "1507e8b31b6982256df69ccb0727c38e84ccc471"
      },
      "cell_type": "code",
      "source": "from sklearn.model_selection import train_test_split\n\ny = labels[:feature_tensors.shape[0]]\n\nX_train, X_test, y_train, y_test = train_test_split(feature_tensors, y, test_size=0.2, random_state=42)\n",
      "execution_count": null,
      "outputs": []
    },
    {
      "metadata": {
        "trusted": true,
        "_uuid": "e83d7df29b0c0388952ecb6d6ad8df172f452f84"
      },
      "cell_type": "code",
      "source": "from sklearn.metrics import classification_report\nimport matplotlib.pyplot as plt\nfrom sklearn.metrics import roc_auc_score, classification_report, confusion_matrix, roc_curve\nimport matplotlib.pyplot as plt\n\n\ndef precision_recall(name, clf):  \n    y_pred = clf.predict(X_test)\n    \n    if(num_class==2):\n        roc_score = roc_auc_score(y_test, y_pred)\n        print('roc_auc_score', roc_score)\n\n    \n    if(num_class==3):\n        report = classification_report(y_test, y_pred, target_names=class_encoder.classes_)\n    else:\n        report = classification_report(y_test, y_pred)\n        \n    print('classification report for', name)\n    print( report )\n    \n\ndef evaluate_classifier(clf,name):    \n    clf.fit(X_train,y_train)\n\n    save_pickle(clf,name)\n\n    precision_recall(name, clf)\n    \n    score = clf.score(X_test,y_test)\n    \n    print('average_score', round(score,3))",
      "execution_count": null,
      "outputs": []
    },
    {
      "metadata": {
        "trusted": true,
        "_uuid": "d794f49bc4921989f9528e29eec1b402602ddd07"
      },
      "cell_type": "code",
      "source": "from sklearn.tree import DecisionTreeClassifier\n\nclf = DecisionTreeClassifier(random_state=0)\nname = 'DecisionTreeClassifier'\nevaluate_classifier(clf,name)     ",
      "execution_count": null,
      "outputs": []
    },
    {
      "metadata": {
        "trusted": true,
        "_uuid": "ab12e2c944959332595e850baaa44ffddf092e06"
      },
      "cell_type": "code",
      "source": "from sklearn.ensemble import RandomForestClassifier\n\nclf = RandomForestClassifier()\n\nname = 'RandomForestClassifier'\n\nevaluate_classifier(clf,name) ",
      "execution_count": null,
      "outputs": []
    },
    {
      "metadata": {
        "trusted": true,
        "_uuid": "12e3b316e284b97fd6dc2d80857cbba480161f00"
      },
      "cell_type": "code",
      "source": "from sklearn.discriminant_analysis import LinearDiscriminantAnalysis\n\nclf = LinearDiscriminantAnalysis()\n\nname = 'LinearDiscriminantAnalysis'\n\nevaluate_classifier(clf,name) \n\nfrom sklearn.discriminant_analysis import QuadraticDiscriminantAnalysis\n\nclf = QuadraticDiscriminantAnalysis()\n\nname = 'QuadraticDiscriminantAnalysis'\n\nevaluate_classifier(clf,name) ",
      "execution_count": null,
      "outputs": []
    },
    {
      "metadata": {
        "trusted": true,
        "_uuid": "8165d674da9a744a18495548e4590337e70f4762"
      },
      "cell_type": "code",
      "source": "from sklearn.svm import LinearSVC\n\nclf = LinearSVC()\nname = 'LinearSVC'\n\nevaluate_classifier(clf,name) ",
      "execution_count": null,
      "outputs": []
    },
    {
      "metadata": {
        "trusted": true,
        "_uuid": "be0c57db3000e3c0667bd2029c84386652d6146f"
      },
      "cell_type": "code",
      "source": "from sklearn.naive_bayes import GaussianNB\n\nclf = GaussianNB()\n\nname = 'GaussianNB'\n\nevaluate_classifier(clf,name) \n\nfrom sklearn.dummy import DummyClassifier\n\nclf = DummyClassifier(strategy='stratified', random_state=0)\n\nname = 'Dummy stratified'\n\nevaluate_classifier(clf,name)\n\n\n\n\nclf = DummyClassifier(strategy='prior', random_state=0)\n\nname = 'Dummy prior'\n\nevaluate_classifier(clf,name) ",
      "execution_count": null,
      "outputs": []
    },
    {
      "metadata": {
        "trusted": true,
        "_uuid": "b4d29b4484af35500a3fe305f13a4583d056a479"
      },
      "cell_type": "code",
      "source": "from keras.models import Sequential\nfrom keras.layers import Dropout, Dense, Flatten,BatchNormalization,LeakyReLU\nfrom keras.metrics import categorical_accuracy, binary_accuracy\nimport keras\nfrom sklearn.model_selection import train_test_split\n\n\n\nif(num_class==2):\n    \n    y = labels[:feature_tensors.shape[0]]\n    y = np.array(y)\n    X_train, X_test, y_train, y_test = train_test_split(feature_tensors, y, test_size=0.2, random_state=42)\n    \n    model = Sequential()\n    model.add(Dense(256, activation='relu'))\n    model.add(Dropout(0.5))\n    model.add(Dense(1, activation='sigmoid'))\n    model.compile(loss='binary_crossentropy', optimizer='rmsprop', metrics=[binary_accuracy])\n\nelse:\n    y = labels[:feature_tensors.shape[0]]\n    y = keras.utils.to_categorical(y, num_class)\n    X_train, X_test, y_train, y_test = train_test_split(feature_tensors, y, test_size=0.2, random_state=42)\n    \n    model = Sequential()\n    model.add(Dense(256, activation='relu'))\n    model.add(Dropout(0.5))\n    model.add(Dense(3, activation='softmax'))\n    model.compile(loss='categorical_crossentropy', optimizer='rmsprop', metrics=[categorical_accuracy])\n\n\n\nmodel.fit(X_train,y_train,\n          epochs=12,\n          batch_size=16,\n          validation_data=(X_test, y_test)\n         )\n\nmodel.save('xception.h5') ",
      "execution_count": 4,
      "outputs": [
        {
          "output_type": "stream",
          "text": "Train on 24166 samples, validate on 6042 samples\nEpoch 1/12\n24166/24166 [==============================] - 10s 415us/step - loss: 0.6087 - binary_accuracy: 0.6832 - val_loss: 0.5847 - val_binary_accuracy: 0.6806\nEpoch 2/12\n24166/24166 [==============================] - 7s 283us/step - loss: 0.5867 - binary_accuracy: 0.6922 - val_loss: 0.5674 - val_binary_accuracy: 0.6922\nEpoch 3/12\n24166/24166 [==============================] - 7s 284us/step - loss: 0.5819 - binary_accuracy: 0.6932 - val_loss: 0.5702 - val_binary_accuracy: 0.6991\nEpoch 4/12\n24166/24166 [==============================] - 7s 282us/step - loss: 0.5773 - binary_accuracy: 0.6934 - val_loss: 0.6581 - val_binary_accuracy: 0.6817\nEpoch 5/12\n24166/24166 [==============================] - 7s 285us/step - loss: 0.5762 - binary_accuracy: 0.6976 - val_loss: 0.5716 - val_binary_accuracy: 0.6915\nEpoch 6/12\n24166/24166 [==============================] - 7s 286us/step - loss: 0.5731 - binary_accuracy: 0.7010 - val_loss: 0.5685 - val_binary_accuracy: 0.6920\nEpoch 7/12\n24166/24166 [==============================] - 7s 282us/step - loss: 0.5704 - binary_accuracy: 0.7026 - val_loss: 0.5663 - val_binary_accuracy: 0.6933\nEpoch 8/12\n24166/24166 [==============================] - 7s 282us/step - loss: 0.5700 - binary_accuracy: 0.7007 - val_loss: 0.5644 - val_binary_accuracy: 0.6981\nEpoch 9/12\n24166/24166 [==============================] - 7s 282us/step - loss: 0.5688 - binary_accuracy: 0.7034 - val_loss: 0.5648 - val_binary_accuracy: 0.6950\nEpoch 10/12\n24166/24166 [==============================] - 7s 283us/step - loss: 0.5680 - binary_accuracy: 0.7030 - val_loss: 0.5560 - val_binary_accuracy: 0.7051\nEpoch 11/12\n24166/24166 [==============================] - 7s 281us/step - loss: 0.5662 - binary_accuracy: 0.7045 - val_loss: 0.5611 - val_binary_accuracy: 0.7075\nEpoch 12/12\n24166/24166 [==============================] - 7s 281us/step - loss: 0.5651 - binary_accuracy: 0.7046 - val_loss: 0.5720 - val_binary_accuracy: 0.6998\n",
          "name": "stdout"
        },
        {
          "output_type": "error",
          "ename": "TypeError",
          "evalue": "must be str, not int",
          "traceback": [
            "\u001b[0;31m---------------------------------------------------------------------------\u001b[0m",
            "\u001b[0;31mTypeError\u001b[0m                                 Traceback (most recent call last)",
            "\u001b[0;32m<ipython-input-4-701ec9dac16f>\u001b[0m in \u001b[0;36m<module>\u001b[0;34m()\u001b[0m\n\u001b[1;32m     38\u001b[0m          )\n\u001b[1;32m     39\u001b[0m \u001b[0;34m\u001b[0m\u001b[0m\n\u001b[0;32m---> 40\u001b[0;31m \u001b[0mmodel\u001b[0m\u001b[0;34m.\u001b[0m\u001b[0msave\u001b[0m\u001b[0;34m(\u001b[0m\u001b[0;34m'xception'\u001b[0m \u001b[0;34m+\u001b[0m \u001b[0mnum_class\u001b[0m \u001b[0;34m+\u001b[0m \u001b[0;34m'class'\u001b[0m \u001b[0;34m+\u001b[0m \u001b[0;34m'.h5'\u001b[0m\u001b[0;34m)\u001b[0m\u001b[0;34m\u001b[0m\u001b[0m\n\u001b[0m",
            "\u001b[0;31mTypeError\u001b[0m: must be str, not int"
          ]
        }
      ]
    },
    {
      "metadata": {
        "trusted": true,
        "_uuid": "e91bd03dbd9654076cdea3a3fc66fe84aaf90e77"
      },
      "cell_type": "code",
      "source": "",
      "execution_count": null,
      "outputs": []
    }
  ],
  "metadata": {
    "kernelspec": {
      "display_name": "Python 3",
      "language": "python",
      "name": "python3"
    },
    "language_info": {
      "name": "python",
      "version": "3.6.6",
      "mimetype": "text/x-python",
      "codemirror_mode": {
        "name": "ipython",
        "version": 3
      },
      "pygments_lexer": "ipython3",
      "nbconvert_exporter": "python",
      "file_extension": ".py"
    }
  },
  "nbformat": 4,
  "nbformat_minor": 1
}