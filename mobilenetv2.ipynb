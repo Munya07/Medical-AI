{
  "cells": [
    {
      "metadata": {
        "trusted": true,
        "_uuid": "055fff4de0cdfc9912329cc6d39df4eca20cfbd0"
      },
      "cell_type": "code",
      "source": "import numpy as np # linear algebra\nimport pandas as pd # data processing, CSV file I/O (e.g. pd.read_csv)\nimport pydicom\nimport random \nfrom tqdm import tqdm\n\nimport os\nimport keras\nimport pydicom\n\nfrom sklearn.preprocessing import LabelEncoder\nimport pickle\n\ndef read_pickle(filename):    \n    with open(filename, 'rb') as fp:\n        return pickle.load(fp)\n    \ndef save_pickle(data,filename):       \n    with open(filename, 'wb') as fp:\n        pickle.dump(data, fp)  \n    \ndata_path = '../input/rsna-pneumonia-detection-challenge/'\n\nimages_path = data_path + 'stage_2_train_images/'\nlabels_path = data_path + 'stage_2_train_labels.csv'\n\ndetailed_class_info_path = data_path + 'stage_2_detailed_class_info.csv'\n\nclass_encoder = LabelEncoder()\n   \ndef merge_dataframes():\n    df = pd.read_csv(labels_path)\n    details_df = pd.read_csv(detailed_class_info_path)\n    df = pd.concat([df,details_df.drop('patientId',1)], 1) \n    print(df.describe())\n    print(df.shape[0], 'cases')\n\n    return df\n\n\n  \ndef load_ids_and_labels_from_file():\n    ids = read_pickle('ids')\n    labels = read_pickle('labels')\n    return ids,labels\n  \ndef get_ids_and_labels(num_class):\n    df = merge_dataframes()\n    df['class_id'] = class_encoder.fit_transform(df['class'])\n\n    df.sort_values(by=['patientId', 'class_id'])\n    \n    ids = df.patientId.tolist()\n    \n    if(num_class==2):\n        labels =  df.Target.tolist() \n    else:\n        labels =  df.class_id.tolist() \n    \n    save_pickle(ids, 'ids')\n    save_pickle(labels, 'labels')\n\n    return ids,labels\n\n      \n\nnum_class = 2\nids,labels = get_ids_and_labels(num_class)\n",
      "execution_count": 42,
      "outputs": [
        {
          "output_type": "stream",
          "text": "                 x            y      ...            height        Target\ncount  9555.000000  9555.000000      ...       9555.000000  30227.000000\nmean    394.047724   366.839560      ...        329.269702      0.316108\nstd     204.574172   148.940488      ...        157.750755      0.464963\nmin       2.000000     2.000000      ...         45.000000      0.000000\n25%     207.000000   249.000000      ...        203.000000      0.000000\n50%     324.000000   365.000000      ...        298.000000      0.000000\n75%     594.000000   478.500000      ...        438.000000      1.000000\nmax     835.000000   881.000000      ...        942.000000      1.000000\n\n[8 rows x 5 columns]\n30227 cases\n",
          "name": "stdout"
        }
      ]
    },
    {
      "metadata": {
        "trusted": true,
        "_uuid": "324b5cc19d0ef848facaa7f136fa7051b34ad20e"
      },
      "cell_type": "code",
      "source": "feature_tensors = np.load('../input/mobilenetv2/mobilenet_v2_features.npz')['arr_0']\n\nfrom sklearn.model_selection import train_test_split\n\ny = labels[:feature_tensors.shape[0]]\n\nX_train, X_test, y_train, y_test = train_test_split(feature_tensors, y, test_size=0.2, random_state=42)\n\nX_train.shape",
      "execution_count": 35,
      "outputs": [
        {
          "output_type": "execute_result",
          "execution_count": 35,
          "data": {
            "text/plain": "(24166, 1280)"
          },
          "metadata": {}
        }
      ]
    },
    {
      "metadata": {
        "trusted": true,
        "_uuid": "6f2b92cd45f5f12743d7eb3a1f200216d0dc4d7e"
      },
      "cell_type": "code",
      "source": "from sklearn.metrics import classification_report\nimport matplotlib.pyplot as plt\nfrom sklearn.metrics import roc_auc_score, classification_report, confusion_matrix, roc_curve\nimport matplotlib.pyplot as plt\n\n\ndef precision_recall(name, clf):  \n    y_pred = clf.predict(X_test)\n    \n    if(num_class==2):\n        roc_score = roc_auc_score(y_test, y_pred)\n        print('roc_auc_score', roc_score)\n\n    \n    if(num_class==3):\n        report = classification_report(y_test, y_pred, target_names=class_encoder.classes_)\n    else:\n        report = classification_report(y_test, y_pred)\n        \n    print('classification report for', name)\n    print( report )\n    \n\ndef evaluate_classifier(clf,name):    \n    clf.fit(X_train,y_train)\n\n    # save_pickle(clf,name)\n\n    precision_recall(name, clf)\n    \n    score = clf.score(X_test,y_test)\n    \n    print('average_score', round(score,3))",
      "execution_count": 36,
      "outputs": []
    },
    {
      "metadata": {
        "trusted": true,
        "_uuid": "855528c4405d47f0fbe856cb52c292b9b5ef850d"
      },
      "cell_type": "code",
      "source": "from sklearn.tree import DecisionTreeClassifier\n\nclf = DecisionTreeClassifier(random_state=0)\n\nname = 'DecisionTreeClassifier'\n\nevaluate_classifier(clf,name) \n\n\n\nfrom sklearn.ensemble import RandomForestClassifier\n\nclf = RandomForestClassifier()\n\nname = 'RandomForestClassifier'\n\nevaluate_classifier(clf,name) ",
      "execution_count": 37,
      "outputs": [
        {
          "output_type": "stream",
          "text": "roc_auc_score 0.75067072712234\nclassification report for DecisionTreeClassifier\n              precision    recall  f1-score   support\n\n           0       0.86      0.76      0.81      4092\n           1       0.60      0.74      0.66      1950\n\n   micro avg       0.76      0.76      0.76      6042\n   macro avg       0.73      0.75      0.73      6042\nweighted avg       0.77      0.76      0.76      6042\n\naverage_score 0.756\n",
          "name": "stdout"
        },
        {
          "output_type": "stream",
          "text": "/opt/conda/lib/python3.6/site-packages/sklearn/ensemble/forest.py:246: FutureWarning: The default value of n_estimators will change from 10 in version 0.20 to 100 in 0.22.\n  \"10 in version 0.20 to 100 in 0.22.\", FutureWarning)\n",
          "name": "stderr"
        },
        {
          "output_type": "stream",
          "text": "roc_auc_score 0.7718508910444395\nclassification report for RandomForestClassifier\n              precision    recall  f1-score   support\n\n           0       0.84      0.92      0.88      4092\n           1       0.79      0.62      0.70      1950\n\n   micro avg       0.82      0.82      0.82      6042\n   macro avg       0.81      0.77      0.79      6042\nweighted avg       0.82      0.82      0.82      6042\n\naverage_score 0.824\n",
          "name": "stdout"
        }
      ]
    },
    {
      "metadata": {
        "trusted": true,
        "_uuid": "bbc5813efbbbd0e658c941d31ae1516359fc926a"
      },
      "cell_type": "code",
      "source": "from sklearn.discriminant_analysis import LinearDiscriminantAnalysis\n\nclf = LinearDiscriminantAnalysis()\n\nname = 'LinearDiscriminantAnalysis'\n\nevaluate_classifier(clf,name) \n\nfrom sklearn.discriminant_analysis import QuadraticDiscriminantAnalysis\n\nclf = QuadraticDiscriminantAnalysis()\n\nname = 'QuadraticDiscriminantAnalysis'\n\nevaluate_classifier(clf,name) ",
      "execution_count": 38,
      "outputs": [
        {
          "output_type": "stream",
          "text": "roc_auc_score 0.6151293330325589\nclassification report for LinearDiscriminantAnalysis\n              precision    recall  f1-score   support\n\n           0       0.74      0.87      0.80      4092\n           1       0.57      0.36      0.44      1950\n\n   micro avg       0.71      0.71      0.71      6042\n   macro avg       0.65      0.62      0.62      6042\nweighted avg       0.69      0.71      0.68      6042\n\naverage_score 0.705\n",
          "name": "stdout"
        },
        {
          "output_type": "stream",
          "text": "/opt/conda/lib/python3.6/site-packages/sklearn/discriminant_analysis.py:692: UserWarning: Variables are collinear\n  warnings.warn(\"Variables are collinear\")\n",
          "name": "stderr"
        },
        {
          "output_type": "stream",
          "text": "roc_auc_score 0.6530983532596436\nclassification report for QuadraticDiscriminantAnalysis\n              precision    recall  f1-score   support\n\n           0       0.83      0.53      0.64      4092\n           1       0.44      0.78      0.56      1950\n\n   micro avg       0.61      0.61      0.61      6042\n   macro avg       0.64      0.65      0.60      6042\nweighted avg       0.71      0.61      0.62      6042\n\naverage_score 0.608\n",
          "name": "stdout"
        }
      ]
    },
    {
      "metadata": {
        "trusted": true,
        "_uuid": "1e9f5edd103c77262edbb977d65e267fd101951d"
      },
      "cell_type": "code",
      "source": "from sklearn.svm import LinearSVC\n\nclf = LinearSVC()\nname = 'LinearSVC'\n\nevaluate_classifier(clf,name) ",
      "execution_count": 39,
      "outputs": [
        {
          "output_type": "stream",
          "text": "roc_auc_score 0.5610271448981127\nclassification report for LinearSVC\n              precision    recall  f1-score   support\n\n           0       0.71      0.94      0.81      4092\n           1       0.58      0.18      0.28      1950\n\n   micro avg       0.69      0.69      0.69      6042\n   macro avg       0.65      0.56      0.54      6042\nweighted avg       0.67      0.69      0.64      6042\n\naverage_score 0.694\n",
          "name": "stdout"
        },
        {
          "output_type": "stream",
          "text": "/opt/conda/lib/python3.6/site-packages/sklearn/svm/base.py:931: ConvergenceWarning: Liblinear failed to converge, increase the number of iterations.\n  \"the number of iterations.\", ConvergenceWarning)\n",
          "name": "stderr"
        }
      ]
    },
    {
      "metadata": {
        "trusted": true,
        "_uuid": "25413d3948da2c6ed488ab552c1a3a1525e1c42b"
      },
      "cell_type": "code",
      "source": "from sklearn.naive_bayes import GaussianNB\n\nclf = GaussianNB()\n\nname = 'GaussianNB'\n\nevaluate_classifier(clf,name) ",
      "execution_count": 40,
      "outputs": [
        {
          "output_type": "stream",
          "text": "roc_auc_score 0.5333577712609971\nclassification report for GaussianNB\n              precision    recall  f1-score   support\n\n           0       0.69      0.90      0.78      4092\n           1       0.44      0.17      0.24      1950\n\n   micro avg       0.66      0.66      0.66      6042\n   macro avg       0.57      0.53      0.51      6042\nweighted avg       0.61      0.66      0.61      6042\n\naverage_score 0.663\n",
          "name": "stdout"
        }
      ]
    },
    {
      "metadata": {
        "trusted": true,
        "_uuid": "d471256585317f30a777f9d98092d6399ce161f6"
      },
      "cell_type": "code",
      "source": "from keras.models import Sequential\nfrom keras.layers import Dropout, Dense, Flatten,BatchNormalization,LeakyReLU\nfrom keras.metrics import categorical_accuracy, binary_accuracy\nimport keras\nfrom sklearn.model_selection import train_test_split\n\n\n\nif(num_class==2):\n    y = labels[:feature_tensors.shape[0]]\n    y = np.array(y)\n    X_train, X_test, y_train, y_test = train_test_split(feature_tensors, y, test_size=0.2, random_state=42)\n    \n    model = Sequential()\n    model.add(Dense(256, activation='relu'))\n    model.add(Dropout(0.5))\n    model.add(Dense(1, activation='sigmoid'))\n    model.compile(loss='binary_crossentropy', optimizer='rmsprop', metrics=[binary_accuracy])\n\nelse:\n    y = labels[:feature_tensors.shape[0]]\n    y = keras.utils.to_categorical(y, num_class)\n    X_train, X_test, y_train, y_test = train_test_split(feature_tensors, y, test_size=0.2, random_state=42)\n    \n    model = Sequential()\n    model.add(Dense(256, activation='relu'))\n    model.add(Dropout(0.5))\n    model.add(Dense(3, activation='softmax'))\n    model.compile(loss='categorical_crossentropy', optimizer='rmsprop', metrics=[categorical_accuracy])\n\n\n\nmodel.fit(X_train,y_train,\n          epochs=12,\n          batch_size=16,\n          validation_data=(X_test, y_test)\n         )\n\nmodel.save('mobilenet.h5') ",
      "execution_count": 53,
      "outputs": [
        {
          "output_type": "stream",
          "text": "2\nTrain on 24166 samples, validate on 6042 samples\nEpoch 1/12\n24166/24166 [==============================] - 8s 317us/step - loss: 0.6109 - binary_accuracy: 0.6817 - val_loss: 0.5794 - val_binary_accuracy: 0.6771\nEpoch 2/12\n24166/24166 [==============================] - 7s 275us/step - loss: 0.5903 - binary_accuracy: 0.6901 - val_loss: 0.5775 - val_binary_accuracy: 0.6850\nEpoch 3/12\n24166/24166 [==============================] - 7s 272us/step - loss: 0.5850 - binary_accuracy: 0.6929 - val_loss: 0.5835 - val_binary_accuracy: 0.6812\nEpoch 4/12\n24166/24166 [==============================] - 7s 273us/step - loss: 0.5826 - binary_accuracy: 0.6913 - val_loss: 0.5699 - val_binary_accuracy: 0.6933\nEpoch 5/12\n24166/24166 [==============================] - 7s 273us/step - loss: 0.5814 - binary_accuracy: 0.6950 - val_loss: 0.5719 - val_binary_accuracy: 0.6940\nEpoch 6/12\n24166/24166 [==============================] - 7s 272us/step - loss: 0.5810 - binary_accuracy: 0.6921 - val_loss: 0.5721 - val_binary_accuracy: 0.6817\nEpoch 7/12\n24166/24166 [==============================] - 7s 272us/step - loss: 0.5789 - binary_accuracy: 0.6981 - val_loss: 0.5729 - val_binary_accuracy: 0.6877\nEpoch 8/12\n24166/24166 [==============================] - 7s 275us/step - loss: 0.5782 - binary_accuracy: 0.6976 - val_loss: 0.5725 - val_binary_accuracy: 0.6953\nEpoch 9/12\n24166/24166 [==============================] - 7s 273us/step - loss: 0.5778 - binary_accuracy: 0.6998 - val_loss: 0.5734 - val_binary_accuracy: 0.6844\nEpoch 10/12\n24166/24166 [==============================] - 7s 272us/step - loss: 0.5773 - binary_accuracy: 0.6974 - val_loss: 0.5686 - val_binary_accuracy: 0.6902\nEpoch 11/12\n24166/24166 [==============================] - 7s 272us/step - loss: 0.5760 - binary_accuracy: 0.7014 - val_loss: 0.5676 - val_binary_accuracy: 0.7003\nEpoch 12/12\n24166/24166 [==============================] - 7s 272us/step - loss: 0.5737 - binary_accuracy: 0.7014 - val_loss: 0.5845 - val_binary_accuracy: 0.6893\n",
          "name": "stdout"
        }
      ]
    },
    {
      "metadata": {
        "trusted": true,
        "_uuid": "d8d7d8f020fcedaf04bfadffcb3aaeee44aadf25"
      },
      "cell_type": "code",
      "source": "",
      "execution_count": null,
      "outputs": []
    }
  ],
  "metadata": {
    "kernelspec": {
      "display_name": "Python 3",
      "language": "python",
      "name": "python3"
    },
    "language_info": {
      "name": "python",
      "version": "3.6.6",
      "mimetype": "text/x-python",
      "codemirror_mode": {
        "name": "ipython",
        "version": 3
      },
      "pygments_lexer": "ipython3",
      "nbconvert_exporter": "python",
      "file_extension": ".py"
    }
  },
  "nbformat": 4,
  "nbformat_minor": 1
}